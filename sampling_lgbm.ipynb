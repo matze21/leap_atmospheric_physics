{
 "cells": [
  {
   "cell_type": "code",
   "execution_count": null,
   "metadata": {},
   "outputs": [],
   "source": [
    "import dask.dataframe as dd\n",
    "import matplotlib.pyplot as plt\n",
    "import os\n",
    "from sklearn.metrics import r2_score\n",
    "import dask_ml\n",
    "import dask\n",
    "import pandas as pd\n",
    "import numpy as np\n",
    "import lightgbm as lgb\n",
    "\n",
    "import warnings\n",
    "warnings.filterwarnings(\"ignore\", category=UserWarning, message=\".*Sending large graph.*\")\n",
    "\n",
    "from dask.distributed import Client, LocalCluster\n",
    "import dask.multiprocessing\n",
    "\n",
    "cluster = LocalCluster(processes=True,n_workers=6, threads_per_worker=1)\n",
    "client = Client(cluster)\n",
    "import sys\n",
    "import pickle \n",
    "\n",
    "from data_helpers import *\n",
    "from metrics import *"
   ]
  },
  {
   "cell_type": "code",
   "execution_count": null,
   "metadata": {},
   "outputs": [],
   "source": [
    "folders = [\n",
    "    'train0_25',\n",
    "    'train25_50',\n",
    "    'train50_75',\n",
    "    'train75_100'\n",
    "]\n",
    "\n",
    "# Read Parquet files from each folder into Dask DataFrames\n",
    "dfs = [dd.read_parquet(folder) for folder in folders]\n",
    "\n",
    "# Concatenate all DataFrames into a single DataFrame\n",
    "data = dd.concat(dfs)"
   ]
  },
  {
   "cell_type": "code",
   "execution_count": null,
   "metadata": {},
   "outputs": [],
   "source": [
    "np.random.seed(42)\n",
    "\n",
    "orig_partitions = [i for i in range(0,int(data.npartitions))]\n",
    "np.random.shuffle(orig_partitions) #shuffles inplace\n",
    "\n",
    "trainSep = int(0.95* data.npartitions)\n",
    "valEnd = data.npartitions #int(0.05* data.npartitions) + trainSep\n",
    "\n",
    "sampledPartIdxTrain = orig_partitions[0:trainSep]\n",
    "sampledPartIdxTest  = orig_partitions[trainSep:valEnd]"
   ]
  },
  {
   "cell_type": "code",
   "execution_count": null,
   "metadata": {},
   "outputs": [],
   "source": [
    "# validation data\n",
    "val = data.partitions[sampledPartIdxTest[0:30]].compute()"
   ]
  },
  {
   "cell_type": "code",
   "execution_count": null,
   "metadata": {},
   "outputs": [],
   "source": [
    "plt.scatter(x=range(val.shape[0]),y=val['ptend_q0002_26'], s=1)\n",
    "plt.show()\n",
    "# [-8*e-15:0]"
   ]
  },
  {
   "cell_type": "code",
   "execution_count": null,
   "metadata": {},
   "outputs": [],
   "source": [
    "f = 'ptend_q0002_26'\n",
    "mean_f = data[f].mean().compute()\n",
    "\n",
    "separator=1\n",
    "train = data.partitions[sampledPartIdxTrain]\n",
    "tr_large = train.loc[abs(train[f]) > separator*abs(mean_f)]\n",
    "tr_large = tr_large.compute()\n",
    "\n",
    "tr_small = train.loc[abs(train[f]) < separator*abs(mean_f)]\n",
    "size = tr_small.shape[0].compute()\n",
    "tr_small = tr_small.sample(frac=10000/size).compute()"
   ]
  },
  {
   "cell_type": "code",
   "execution_count": null,
   "metadata": {},
   "outputs": [],
   "source": [
    "plt.scatter(x=range(tr_large.shape[0]),y=tr_large['ptend_q0002_26'], s=1)\n",
    "plt.show()\n",
    "# [1.4e-16:8e-10]"
   ]
  },
  {
   "cell_type": "code",
   "execution_count": null,
   "metadata": {},
   "outputs": [],
   "source": [
    "tr_large.to_csv(f+'_largeV_sep1_all.csv')"
   ]
  },
  {
   "cell_type": "code",
   "execution_count": null,
   "metadata": {},
   "outputs": [],
   "source": [
    "import sys\n",
    "sys.getsizeof(tr_large)/1e6, sys.getsizeof(tr_small)/1e6 #in mb"
   ]
  },
  {
   "cell_type": "code",
   "execution_count": null,
   "metadata": {},
   "outputs": [],
   "source": [
    "# sample full data\n",
    "tr_large0 = tr_large.sample(n=100000, random_state=42, replace=True)\n",
    "tr_small0 = tr_small.sample(n=100000, random_state=42, replace=True)\n",
    "\n",
    "tr_new = pd.concat([tr_large0, tr_small0], axis =0)\n",
    "tr_new = tr_new.sample(frac=1).reset_index(drop=True)\n",
    "del tr_large0, tr_small0\n",
    "\n",
    "valSet = lgb.Dataset(val[allF], label=val[f], free_raw_data=False)\n",
    "trainSet = lgb.Dataset(tr_new[allF], tr_new[f], free_raw_data=False)"
   ]
  },
  {
   "cell_type": "code",
   "execution_count": null,
   "metadata": {},
   "outputs": [],
   "source": [
    "params = {\n",
    "    'boosting_type': 'gbdt',\n",
    "    'objective': 'regression',\n",
    "    'metric': 'l2',\n",
    "    #'num_leaves': 15,\n",
    "    #'learning_rate': 0.05,\n",
    "    #'feature_fraction': 0.9,\n",
    "    #'bagging_fraction': 0.8,\n",
    "    #'bagging_freq': 5,\n",
    "    'verbose': -1\n",
    "}\n",
    "\n",
    "gbm = lgb.train(params,\n",
    "            trainSet,\n",
    "            num_boost_round=100, \n",
    "            valid_sets=valSet,\n",
    "            callbacks = [lgb.early_stopping(stopping_rounds=10)],\n",
    "            init_model=None)\n",
    "\n",
    "predTrain = gbm.predict(trainSet.data)\n",
    "predVal = gbm.predict(valSet.data)\n",
    "r2train =r2_score(trainSet.label, predTrain)\n",
    "r2test =r2_score(valSet.label, predVal)\n",
    "print('r2 scores', r2train,r2test)\n",
    "\n",
    "#sep 3\n",
    "# r2 scores 0.9476652354318174 -6196156161.0836525 : 10k/10k not shuffled, same if shuffled\n",
    "# r2 scores 0.9999999992944911 -17.38356548018086  : 100k/100k\n",
    "# r2 scores 0.9999999992944553 -17.78288642970076  : 100k/100k with 15leaves max\n",
    "#sep 1\n",
    "# r2 scores 0.9995889016184228 -90207697.06780742\n",
    "\n",
    "# without features, but all large values"
   ]
  },
  {
   "cell_type": "code",
   "execution_count": null,
   "metadata": {},
   "outputs": [],
   "source": [
    "plt.scatter(x=range(predTrain.shape[0]),y=predTrain, s=1,label='pred')\n",
    "plt.scatter(x=range(predTrain.shape[0]),y=trainSet.label, s=1,label='gt')\n",
    "plt.legend()\n",
    "plt.show()"
   ]
  },
  {
   "cell_type": "code",
   "execution_count": null,
   "metadata": {},
   "outputs": [],
   "source": [
    "plt.scatter(x=range(predVal.shape[0]),y=predVal, s=1,label='pred')\n",
    "plt.scatter(x=range(predVal.shape[0]),y=valSet.label, s=1,label='gt')\n",
    "plt.legend()\n",
    "plt.show()"
   ]
  },
  {
   "cell_type": "code",
   "execution_count": null,
   "metadata": {},
   "outputs": [],
   "source": []
  }
 ],
 "metadata": {
  "kernelspec": {
   "display_name": "Python 3.10.13 ('leap')",
   "language": "python",
   "name": "python3"
  },
  "language_info": {
   "codemirror_mode": {
    "name": "ipython",
    "version": 3
   },
   "file_extension": ".py",
   "mimetype": "text/x-python",
   "name": "python",
   "nbconvert_exporter": "python",
   "pygments_lexer": "ipython3",
   "version": "3.10.13"
  },
  "vscode": {
   "interpreter": {
    "hash": "7d127f3b59cdcbede3105ef79393826088284249e767f609c5a6124df566c40a"
   }
  }
 },
 "nbformat": 4,
 "nbformat_minor": 2
}
